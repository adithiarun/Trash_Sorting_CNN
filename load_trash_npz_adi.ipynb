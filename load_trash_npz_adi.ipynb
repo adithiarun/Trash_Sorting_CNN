{
 "cells": [
  {
   "cell_type": "code",
   "execution_count": 1,
   "metadata": {},
   "outputs": [
    {
     "name": "stderr",
     "output_type": "stream",
     "text": [
      "C:\\Users\\prath\\anaconda\\envs\\py37\\lib\\site-packages\\tensorflow\\python\\framework\\dtypes.py:516: FutureWarning: Passing (type, 1) or '1type' as a synonym of type is deprecated; in a future version of numpy, it will be understood as (type, (1,)) / '(1,)type'.\n",
      "  _np_qint8 = np.dtype([(\"qint8\", np.int8, 1)])\n",
      "C:\\Users\\prath\\anaconda\\envs\\py37\\lib\\site-packages\\tensorflow\\python\\framework\\dtypes.py:517: FutureWarning: Passing (type, 1) or '1type' as a synonym of type is deprecated; in a future version of numpy, it will be understood as (type, (1,)) / '(1,)type'.\n",
      "  _np_quint8 = np.dtype([(\"quint8\", np.uint8, 1)])\n",
      "C:\\Users\\prath\\anaconda\\envs\\py37\\lib\\site-packages\\tensorflow\\python\\framework\\dtypes.py:518: FutureWarning: Passing (type, 1) or '1type' as a synonym of type is deprecated; in a future version of numpy, it will be understood as (type, (1,)) / '(1,)type'.\n",
      "  _np_qint16 = np.dtype([(\"qint16\", np.int16, 1)])\n",
      "C:\\Users\\prath\\anaconda\\envs\\py37\\lib\\site-packages\\tensorflow\\python\\framework\\dtypes.py:519: FutureWarning: Passing (type, 1) or '1type' as a synonym of type is deprecated; in a future version of numpy, it will be understood as (type, (1,)) / '(1,)type'.\n",
      "  _np_quint16 = np.dtype([(\"quint16\", np.uint16, 1)])\n",
      "C:\\Users\\prath\\anaconda\\envs\\py37\\lib\\site-packages\\tensorflow\\python\\framework\\dtypes.py:520: FutureWarning: Passing (type, 1) or '1type' as a synonym of type is deprecated; in a future version of numpy, it will be understood as (type, (1,)) / '(1,)type'.\n",
      "  _np_qint32 = np.dtype([(\"qint32\", np.int32, 1)])\n",
      "C:\\Users\\prath\\anaconda\\envs\\py37\\lib\\site-packages\\tensorflow\\python\\framework\\dtypes.py:525: FutureWarning: Passing (type, 1) or '1type' as a synonym of type is deprecated; in a future version of numpy, it will be understood as (type, (1,)) / '(1,)type'.\n",
      "  np_resource = np.dtype([(\"resource\", np.ubyte, 1)])\n",
      "C:\\Users\\prath\\anaconda\\envs\\py37\\lib\\site-packages\\tensorboard\\compat\\tensorflow_stub\\dtypes.py:541: FutureWarning: Passing (type, 1) or '1type' as a synonym of type is deprecated; in a future version of numpy, it will be understood as (type, (1,)) / '(1,)type'.\n",
      "  _np_qint8 = np.dtype([(\"qint8\", np.int8, 1)])\n",
      "C:\\Users\\prath\\anaconda\\envs\\py37\\lib\\site-packages\\tensorboard\\compat\\tensorflow_stub\\dtypes.py:542: FutureWarning: Passing (type, 1) or '1type' as a synonym of type is deprecated; in a future version of numpy, it will be understood as (type, (1,)) / '(1,)type'.\n",
      "  _np_quint8 = np.dtype([(\"quint8\", np.uint8, 1)])\n",
      "C:\\Users\\prath\\anaconda\\envs\\py37\\lib\\site-packages\\tensorboard\\compat\\tensorflow_stub\\dtypes.py:543: FutureWarning: Passing (type, 1) or '1type' as a synonym of type is deprecated; in a future version of numpy, it will be understood as (type, (1,)) / '(1,)type'.\n",
      "  _np_qint16 = np.dtype([(\"qint16\", np.int16, 1)])\n",
      "C:\\Users\\prath\\anaconda\\envs\\py37\\lib\\site-packages\\tensorboard\\compat\\tensorflow_stub\\dtypes.py:544: FutureWarning: Passing (type, 1) or '1type' as a synonym of type is deprecated; in a future version of numpy, it will be understood as (type, (1,)) / '(1,)type'.\n",
      "  _np_quint16 = np.dtype([(\"quint16\", np.uint16, 1)])\n",
      "C:\\Users\\prath\\anaconda\\envs\\py37\\lib\\site-packages\\tensorboard\\compat\\tensorflow_stub\\dtypes.py:545: FutureWarning: Passing (type, 1) or '1type' as a synonym of type is deprecated; in a future version of numpy, it will be understood as (type, (1,)) / '(1,)type'.\n",
      "  _np_qint32 = np.dtype([(\"qint32\", np.int32, 1)])\n",
      "C:\\Users\\prath\\anaconda\\envs\\py37\\lib\\site-packages\\tensorboard\\compat\\tensorflow_stub\\dtypes.py:550: FutureWarning: Passing (type, 1) or '1type' as a synonym of type is deprecated; in a future version of numpy, it will be understood as (type, (1,)) / '(1,)type'.\n",
      "  np_resource = np.dtype([(\"resource\", np.ubyte, 1)])\n"
     ]
    }
   ],
   "source": [
    "import numpy as np\n",
    "from numpy import asarray\n",
    "import cv2\n",
    "from sklearn.model_selection import train_test_split \n",
    "import tensorflow"
   ]
  },
  {
   "cell_type": "code",
   "execution_count": 11,
   "metadata": {},
   "outputs": [],
   "source": [
    "import keras\n",
    "from keras.models import Sequential,Input,Model\n",
    "from keras.layers import Dense, Dropout, Flatten\n",
    "from keras.layers import Conv2D, MaxPooling2D, LeakyReLU\n",
    "from keras.layers.normalization import BatchNormalization"
   ]
  },
  {
   "cell_type": "code",
   "execution_count": 12,
   "metadata": {},
   "outputs": [],
   "source": [
    "data = np.load('Garbage_npz_y6.npz')"
   ]
  },
  {
   "cell_type": "code",
   "execution_count": 13,
   "metadata": {},
   "outputs": [
    {
     "data": {
      "text/plain": [
       "['arr_0', 'arr_1', 'arr_2', 'arr_3']"
      ]
     },
     "execution_count": 13,
     "metadata": {},
     "output_type": "execute_result"
    }
   ],
   "source": [
    "data.files"
   ]
  },
  {
   "cell_type": "code",
   "execution_count": 14,
   "metadata": {},
   "outputs": [],
   "source": [
    "X_train = data['arr_0']\n",
    "X_test = data['arr_2']\n",
    "Y_train = data['arr_1']\n",
    "Y_test = data['arr_3']"
   ]
  },
  {
   "cell_type": "code",
   "execution_count": 15,
   "metadata": {},
   "outputs": [
    {
     "name": "stdout",
     "output_type": "stream",
     "text": [
      "(253, 6)\n",
      "(2274, 6)\n"
     ]
    }
   ],
   "source": [
    "X_train=X_train/255\n",
    "X_test=X_test/255\n",
    "Y_train = Y_train.T\n",
    "Y_test = Y_test.T\n",
    "print(Y_test.shape)\n",
    "print(Y_train.shape)"
   ]
  },
  {
   "cell_type": "code",
   "execution_count": 16,
   "metadata": {},
   "outputs": [],
   "source": [
    "TRAIN = 2274\n",
    "TEST = 253\n",
    "ROWS = 64\n",
    "COLS = 64\n",
    "CH = 3"
   ]
  },
  {
   "cell_type": "code",
   "execution_count": 17,
   "metadata": {},
   "outputs": [],
   "source": [
    "X_train = X_train.reshape(TRAIN, ROWS, COLS, CH)\n",
    "X_test = X_test.reshape(TEST, ROWS, COLS, CH)"
   ]
  },
  {
   "cell_type": "code",
   "execution_count": 18,
   "metadata": {},
   "outputs": [
    {
     "name": "stdout",
     "output_type": "stream",
     "text": [
      "WARNING:tensorflow:From C:\\Users\\prath\\anaconda\\envs\\py37\\lib\\site-packages\\keras\\backend\\tensorflow_backend.py:4070: The name tf.nn.max_pool is deprecated. Please use tf.nn.max_pool2d instead.\n",
      "\n"
     ]
    }
   ],
   "source": [
    "model=Sequential()\n",
    "model.add(Conv2D(32, kernel_size=(3, 3),activation='linear',input_shape=(64,64,3),padding='same'))\n",
    "model.add(LeakyReLU(alpha=0.1))\n",
    "# model.add(Dropout(0.2))\n",
    "model.add(MaxPooling2D((2, 2),padding='same'))\n",
    "model.add(Conv2D(64, (3, 3), activation='linear',padding='same'))\n",
    "model.add(LeakyReLU(alpha=0.1))\n",
    "# model.add(Dropout(0.2))\n",
    "model.add(MaxPooling2D(pool_size=(2, 2),padding='same'))\n",
    "model.add(Conv2D(128, (3, 3), activation='linear',padding='same'))\n",
    "model.add(LeakyReLU(alpha=0.1))\n",
    "# model.add(Dropout(0.2))\n",
    "model.add(MaxPooling2D(pool_size=(2, 2),padding='same'))\n",
    "model.add(Flatten())\n",
    "model.add(Dense(128, activation='linear'))\n",
    "model.add(LeakyReLU(alpha=0.1))                  \n",
    "model.add(Dense(6, activation='softmax'))"
   ]
  },
  {
   "cell_type": "code",
   "execution_count": 19,
   "metadata": {},
   "outputs": [
    {
     "name": "stdout",
     "output_type": "stream",
     "text": [
      "Model: \"sequential_2\"\n",
      "_________________________________________________________________\n",
      "Layer (type)                 Output Shape              Param #   \n",
      "=================================================================\n",
      "conv2d_2 (Conv2D)            (None, 64, 64, 32)        896       \n",
      "_________________________________________________________________\n",
      "leaky_re_lu_1 (LeakyReLU)    (None, 64, 64, 32)        0         \n",
      "_________________________________________________________________\n",
      "max_pooling2d_1 (MaxPooling2 (None, 32, 32, 32)        0         \n",
      "_________________________________________________________________\n",
      "conv2d_3 (Conv2D)            (None, 32, 32, 64)        18496     \n",
      "_________________________________________________________________\n",
      "leaky_re_lu_2 (LeakyReLU)    (None, 32, 32, 64)        0         \n",
      "_________________________________________________________________\n",
      "max_pooling2d_2 (MaxPooling2 (None, 16, 16, 64)        0         \n",
      "_________________________________________________________________\n",
      "conv2d_4 (Conv2D)            (None, 16, 16, 128)       73856     \n",
      "_________________________________________________________________\n",
      "leaky_re_lu_3 (LeakyReLU)    (None, 16, 16, 128)       0         \n",
      "_________________________________________________________________\n",
      "max_pooling2d_3 (MaxPooling2 (None, 8, 8, 128)         0         \n",
      "_________________________________________________________________\n",
      "flatten_1 (Flatten)          (None, 8192)              0         \n",
      "_________________________________________________________________\n",
      "dense_1 (Dense)              (None, 128)               1048704   \n",
      "_________________________________________________________________\n",
      "leaky_re_lu_4 (LeakyReLU)    (None, 128)               0         \n",
      "_________________________________________________________________\n",
      "dense_2 (Dense)              (None, 6)                 774       \n",
      "=================================================================\n",
      "Total params: 1,142,726\n",
      "Trainable params: 1,142,726\n",
      "Non-trainable params: 0\n",
      "_________________________________________________________________\n",
      "None\n"
     ]
    }
   ],
   "source": [
    "model.compile(loss='categorical_crossentropy', optimizer = 'adam', metrics = ['accuracy'])\n",
    "print(model.summary())"
   ]
  },
  {
   "cell_type": "code",
   "execution_count": null,
   "metadata": {},
   "outputs": [
    {
     "name": "stdout",
     "output_type": "stream",
     "text": [
      "WARNING:tensorflow:From C:\\Users\\prath\\anaconda\\envs\\py37\\lib\\site-packages\\keras\\backend\\tensorflow_backend.py:422: The name tf.global_variables is deprecated. Please use tf.compat.v1.global_variables instead.\n",
      "\n",
      "Train on 2046 samples, validate on 228 samples\n",
      "Epoch 1/25\n",
      "2046/2046 [==============================] - 9s 4ms/step - loss: 1.5206 - accuracy: 0.3671 - val_loss: 1.2446 - val_accuracy: 0.5000\n",
      "Epoch 2/25\n",
      "2046/2046 [==============================] - 9s 5ms/step - loss: 1.2461 - accuracy: 0.5156 - val_loss: 1.1700 - val_accuracy: 0.5132\n",
      "Epoch 3/25\n",
      "2046/2046 [==============================] - 8s 4ms/step - loss: 1.0569 - accuracy: 0.6056 - val_loss: 0.9484 - val_accuracy: 0.6754\n",
      "Epoch 4/25\n",
      "2046/2046 [==============================] - 8s 4ms/step - loss: 0.9111 - accuracy: 0.6618 - val_loss: 0.9344 - val_accuracy: 0.6491\n",
      "Epoch 5/25\n",
      "2046/2046 [==============================] - 10s 5ms/step - loss: 0.7420 - accuracy: 0.7258 - val_loss: 1.1847 - val_accuracy: 0.5965\n",
      "Epoch 6/25\n",
      "2046/2046 [==============================] - 10s 5ms/step - loss: 0.6668 - accuracy: 0.7517 - val_loss: 0.8222 - val_accuracy: 0.7412\n",
      "Epoch 7/25\n",
      "2046/2046 [==============================] - 10s 5ms/step - loss: 0.5067 - accuracy: 0.8187 - val_loss: 0.8411 - val_accuracy: 0.7193\n",
      "Epoch 8/25\n",
      "2046/2046 [==============================] - 9s 4ms/step - loss: 0.3790 - accuracy: 0.8710 - val_loss: 0.9470 - val_accuracy: 0.7061\n",
      "Epoch 9/25\n",
      "2046/2046 [==============================] - 9s 5ms/step - loss: 0.3051 - accuracy: 0.8891 - val_loss: 0.9170 - val_accuracy: 0.7105\n",
      "Epoch 10/25\n",
      "2046/2046 [==============================] - 9s 4ms/step - loss: 0.1854 - accuracy: 0.9374 - val_loss: 1.0256 - val_accuracy: 0.7325\n",
      "Epoch 11/25\n",
      "2046/2046 [==============================] - 9s 4ms/step - loss: 0.1522 - accuracy: 0.9521 - val_loss: 1.0895 - val_accuracy: 0.7237\n",
      "Epoch 12/25\n",
      "2046/2046 [==============================] - 10s 5ms/step - loss: 0.1458 - accuracy: 0.9482 - val_loss: 1.1474 - val_accuracy: 0.7368\n",
      "Epoch 13/25\n",
      "2046/2046 [==============================] - 10s 5ms/step - loss: 0.1323 - accuracy: 0.9560 - val_loss: 1.1070 - val_accuracy: 0.7500\n",
      "Epoch 14/25\n",
      "2046/2046 [==============================] - 12s 6ms/step - loss: 0.0937 - accuracy: 0.9746 - val_loss: 1.0504 - val_accuracy: 0.7412\n",
      "Epoch 15/25\n",
      "2046/2046 [==============================] - 13s 6ms/step - loss: 0.0719 - accuracy: 0.9795 - val_loss: 1.3721 - val_accuracy: 0.6930\n",
      "Epoch 16/25\n",
      "2046/2046 [==============================] - 12s 6ms/step - loss: 0.0769 - accuracy: 0.9712 - val_loss: 1.3215 - val_accuracy: 0.7412-\n",
      "Epoch 17/25\n",
      "2046/2046 [==============================] - 12s 6ms/step - loss: 0.0512 - accuracy: 0.9868 - val_loss: 1.6369 - val_accuracy: 0.7193\n",
      "Epoch 18/25\n",
      "2046/2046 [==============================] - 11s 6ms/step - loss: 0.0933 - accuracy: 0.9673 - val_loss: 1.4184 - val_accuracy: 0.7500\n",
      "Epoch 19/25\n",
      " 768/2046 [==========>...................] - ETA: 6s - loss: 0.1527 - accuracy: 0.9401"
     ]
    }
   ],
   "source": [
    "history = model.fit(X_train, Y_train, epochs=25, validation_split=0.1)"
   ]
  },
  {
   "cell_type": "code",
   "execution_count": null,
   "metadata": {},
   "outputs": [],
   "source": [
    "Y_hat = model.predict(X_train)\n",
    "train_accuracy = np.mean(np.rint(Y_hat) == Y_train)\n",
    "print(train_accuracy)"
   ]
  },
  {
   "cell_type": "code",
   "execution_count": null,
   "metadata": {},
   "outputs": [],
   "source": [
    "Y_hat_test = model.predict(X_test)\n",
    "test_accuracy = np.mean(np.rint(Y_hat_test) == Y_test)\n",
    "print(test_accuracy)"
   ]
  },
  {
   "cell_type": "code",
   "execution_count": null,
   "metadata": {},
   "outputs": [],
   "source": []
  },
  {
   "cell_type": "code",
   "execution_count": null,
   "metadata": {},
   "outputs": [],
   "source": []
  }
 ],
 "metadata": {
  "kernelspec": {
   "display_name": "Python 3",
   "language": "python",
   "name": "python3"
  },
  "language_info": {
   "codemirror_mode": {
    "name": "ipython",
    "version": 3
   },
   "file_extension": ".py",
   "mimetype": "text/x-python",
   "name": "python",
   "nbconvert_exporter": "python",
   "pygments_lexer": "ipython3",
   "version": "3.7.10"
  }
 },
 "nbformat": 4,
 "nbformat_minor": 4
}
