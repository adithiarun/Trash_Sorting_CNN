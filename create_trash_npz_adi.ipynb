{
 "cells": [
  {
   "cell_type": "code",
   "execution_count": 1,
   "metadata": {},
   "outputs": [],
   "source": [
    "import numpy as np\n",
    "from numpy import asarray\n",
    "import os\n",
    "import cv2\n",
    "from sklearn.model_selection import train_test_split\n",
    "import scipy.io as spio"
   ]
  },
  {
   "cell_type": "code",
   "execution_count": 2,
   "metadata": {},
   "outputs": [
    {
     "ename": "FileNotFoundError",
     "evalue": "[WinError 3] The system cannot find the path specified: 'C:\\\\Users\\\\prath\\\\Documents\\\\trash-dataset-resized'",
     "output_type": "error",
     "traceback": [
      "\u001b[1;31m---------------------------------------------------------------------------\u001b[0m",
      "\u001b[1;31mFileNotFoundError\u001b[0m                         Traceback (most recent call last)",
      "\u001b[1;32m<ipython-input-2-a8bc8de33bc2>\u001b[0m in \u001b[0;36m<module>\u001b[1;34m\u001b[0m\n\u001b[0;32m      1\u001b[0m \u001b[0mpath\u001b[0m \u001b[1;33m=\u001b[0m \u001b[1;34mr'C:\\Users\\prath\\Documents\\trash-dataset-resized'\u001b[0m\u001b[1;33m\u001b[0m\u001b[1;33m\u001b[0m\u001b[0m\n\u001b[1;32m----> 2\u001b[1;33m \u001b[0mimage_path_array\u001b[0m \u001b[1;33m=\u001b[0m \u001b[1;33m[\u001b[0m\u001b[0mpath\u001b[0m\u001b[1;33m+\u001b[0m\u001b[1;34m'\\\\'\u001b[0m\u001b[1;33m+\u001b[0m\u001b[0meach\u001b[0m \u001b[1;32mfor\u001b[0m \u001b[0meach\u001b[0m \u001b[1;32min\u001b[0m \u001b[0mos\u001b[0m\u001b[1;33m.\u001b[0m\u001b[0mlistdir\u001b[0m\u001b[1;33m(\u001b[0m\u001b[0mpath\u001b[0m\u001b[1;33m)\u001b[0m\u001b[1;33m]\u001b[0m\u001b[1;33m\u001b[0m\u001b[1;33m\u001b[0m\u001b[0m\n\u001b[0m",
      "\u001b[1;31mFileNotFoundError\u001b[0m: [WinError 3] The system cannot find the path specified: 'C:\\\\Users\\\\prath\\\\Documents\\\\trash-dataset-resized'"
     ]
    }
   ],
   "source": [
    "path = r'C:\\Users\\prath\\Documents\\trash-dataset-resized'\n",
    "image_path_array = [path+'\\\\'+each for each in os.listdir(path)]"
   ]
  },
  {
   "cell_type": "code",
   "execution_count": 54,
   "metadata": {},
   "outputs": [],
   "source": [
    "nx = 64*64*3\n",
    "m = 2527\n",
    "X = np.ndarray((nx,m), dtype=int)\n",
    "Y = np.zeros((1,m), dtype=int)\n",
    "i=0\n",
    "for image in image_path_array:\n",
    "    img= cv2.imread (image, cv2.IMREAD_COLOR)\n",
    "    img_res= cv2.resize(img, (64,64))\n",
    "    img_res = img_res.reshape([1,nx])\n",
    "    X[:,i]= img_res\n",
    "    if 'trash' in image:\n",
    "        Y[0,i] = 0\n",
    "    if 'glass' in image:\n",
    "        Y[0,i] = 1\n",
    "    if 'metal' in image:\n",
    "        Y[0,i] = 2\n",
    "    if 'paper' in image:\n",
    "        Y[0,i] = 3\n",
    "    if 'plastic' in image:\n",
    "        Y[0,i] = 4\n",
    "    if 'cardboard' in image:\n",
    "        Y[0,i] = 5\n",
    "    i+=1"
   ]
  },
  {
   "cell_type": "code",
   "execution_count": 55,
   "metadata": {},
   "outputs": [],
   "source": [
    "X= X.T"
   ]
  },
  {
   "cell_type": "code",
   "execution_count": 56,
   "metadata": {},
   "outputs": [
    {
     "name": "stdout",
     "output_type": "stream",
     "text": [
      "(2527, 12288)\n",
      "(2527, 1)\n"
     ]
    }
   ],
   "source": [
    "print(X.shape)\n",
    "Y=Y.T\n",
    "print(Y.shape)"
   ]
  },
  {
   "cell_type": "code",
   "execution_count": 57,
   "metadata": {},
   "outputs": [],
   "source": [
    "X_train, X_test, Y_train, Y_test= train_test_split(X,Y, test_size=0.1, random_state=4)"
   ]
  },
  {
   "cell_type": "code",
   "execution_count": 61,
   "metadata": {},
   "outputs": [
    {
     "data": {
      "text/plain": [
       "(2274, 1)"
      ]
     },
     "execution_count": 61,
     "metadata": {},
     "output_type": "execute_result"
    }
   ],
   "source": [
    "X_train=X_train.T\n",
    "X_test=X_test.T\n",
    "Y_train.shape"
   ]
  },
  {
   "cell_type": "code",
   "execution_count": 62,
   "metadata": {},
   "outputs": [],
   "source": [
    "m_train = 2274\n",
    "m_test = 253\n",
    "Y_train1 = np.zeros((m_train, 6))\n",
    "Y_test1 = np.zeros((m_test, 6))\n",
    "for i in range(0,m_train):\n",
    "    if Y_train[i,0] == 0:\n",
    "        Y_train1[i,0] = 1\n",
    "    if Y_train[i,0] == 1:\n",
    "        Y_train1[i,1] = 1\n",
    "    if Y_train[i,0] == 2:\n",
    "        Y_train1[i,2] = 1\n",
    "    if Y_train[i,0] == 3:\n",
    "        Y_train1[i,3] = 1\n",
    "    if Y_train[i,0] == 4:\n",
    "        Y_train1[i,4] = 1\n",
    "    if Y_train[i,0] == 5:\n",
    "        Y_train1[i,5] = 1"
   ]
  },
  {
   "cell_type": "code",
   "execution_count": 63,
   "metadata": {},
   "outputs": [],
   "source": [
    "for i in range(0,m_test):\n",
    "    if Y_test[i,0] == 0:\n",
    "        Y_test1[i,0] = 1\n",
    "    if Y_test[i,0] == 1:\n",
    "        Y_test1[i,1] = 1\n",
    "    if Y_test[i,0] == 2:\n",
    "        Y_test1[i,2] = 1\n",
    "    if Y_test[i,0] == 3:\n",
    "        Y_test1[i,3] = 1\n",
    "    if Y_test[i,0] == 4:\n",
    "        Y_test1[i,4] = 1\n",
    "    if Y_test[i,0] == 5:\n",
    "        Y_test1[i,5] = 1"
   ]
  },
  {
   "cell_type": "code",
   "execution_count": 64,
   "metadata": {},
   "outputs": [],
   "source": [
    "Y_train1 = Y_train1.T\n",
    "Y_test1 = Y_test1.T\n",
    "np.savez('Garbage_npz_y1', X_train, Y_train, X_test, Y_test)\n",
    "np.savez('Garbage_npz_y6', X_train, Y_train1, X_test, Y_test1)"
   ]
  },
  {
   "cell_type": "code",
   "execution_count": null,
   "metadata": {},
   "outputs": [],
   "source": []
  }
 ],
 "metadata": {
  "kernelspec": {
   "display_name": "Python 3",
   "language": "python",
   "name": "python3"
  },
  "language_info": {
   "codemirror_mode": {
    "name": "ipython",
    "version": 3
   },
   "file_extension": ".py",
   "mimetype": "text/x-python",
   "name": "python",
   "nbconvert_exporter": "python",
   "pygments_lexer": "ipython3",
   "version": "3.7.10"
  }
 },
 "nbformat": 4,
 "nbformat_minor": 4
}
